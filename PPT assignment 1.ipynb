{
 "cells": [
  {
   "cell_type": "code",
   "execution_count": 1,
   "id": "7e70e5b5",
   "metadata": {},
   "outputs": [
    {
     "name": "stdout",
     "output_type": "stream",
     "text": [
      "[0, 1]\n"
     ]
    }
   ],
   "source": [
    "# Answer 1:\n",
    "\n",
    "def twoSum(nums, target):\n",
    "    num_map = {}\n",
    "\n",
    "    for i, num in enumerate(nums):\n",
    "        complement = target - num\n",
    "        if complement in num_map:\n",
    "            return [num_map[complement], i]\n",
    "        num_map[num] = i \n",
    "    return []\n",
    "nums = [2, 7, 11, 15]\n",
    "target = 9\n",
    "result = twoSum(nums, target)\n",
    "print(result)  # Output: [0, 1]\n"
   ]
  },
  {
   "cell_type": "code",
   "execution_count": 2,
   "id": "15ff1882",
   "metadata": {},
   "outputs": [
    {
     "name": "stdout",
     "output_type": "stream",
     "text": [
      "2\n",
      "[2, 2, 2, 3]\n"
     ]
    }
   ],
   "source": [
    "# Answer 2:\n",
    "\n",
    "def removeElement(nums, val):\n",
    "    i = 0\n",
    "    for j in range(len(nums)):\n",
    "        if nums[j] != val:\n",
    "            nums[i] = nums[j]\n",
    "            i += 1\n",
    "\n",
    "    return i\n",
    "\n",
    "nums = [3, 2, 2, 3]\n",
    "val = 3\n",
    "result = removeElement(nums, val)\n",
    "print(result)\n",
    "print(nums)    \n"
   ]
  },
  {
   "cell_type": "code",
   "execution_count": 3,
   "id": "b72ebd5d",
   "metadata": {},
   "outputs": [
    {
     "name": "stdout",
     "output_type": "stream",
     "text": [
      "2\n"
     ]
    }
   ],
   "source": [
    "#Answer 3:\n",
    "\n",
    "def searchInsert(nums, target):\n",
    "    left = 0\n",
    "    right = len(nums) - 1\n",
    "\n",
    "    while left <= right:\n",
    "        mid = (left + right) // 2\n",
    "\n",
    "        if nums[mid] == target:\n",
    "            return mid\n",
    "        elif nums[mid] < target:\n",
    "            left = mid + 1\n",
    "        else:\n",
    "            right = mid - 1\n",
    "\n",
    "    return left\n",
    "nums = [1, 3, 5, 6]\n",
    "target = 5\n",
    "result = searchInsert(nums, target)\n",
    "print(result)\n"
   ]
  },
  {
   "cell_type": "code",
   "execution_count": 4,
   "id": "d1f88922",
   "metadata": {},
   "outputs": [
    {
     "name": "stdout",
     "output_type": "stream",
     "text": [
      "[1, 2, 4]\n"
     ]
    }
   ],
   "source": [
    "#Answer 4:\n",
    "\n",
    "def plusOne(digits):\n",
    "    n = len(digits)\n",
    "\n",
    "    for i in range(n - 1, -1, -1):\n",
    "        if digits[i] < 9:\n",
    "            digits[i] += 1\n",
    "            return digits\n",
    "        else:\n",
    "            digits[i] = 0\n",
    "\n",
    "    return [1] + digits\n",
    "\n",
    "digits = [1, 2, 3]\n",
    "result = plusOne(digits)\n",
    "print(result)  # Output: [1, 2, 4]\n"
   ]
  },
  {
   "cell_type": "code",
   "execution_count": 5,
   "id": "49cc1c7a",
   "metadata": {},
   "outputs": [
    {
     "name": "stdout",
     "output_type": "stream",
     "text": [
      "[1, 2, 2, 3, 5, 6]\n"
     ]
    }
   ],
   "source": [
    "#Answer 5:\n",
    "\n",
    "def merge(nums1, m, nums2, n):\n",
    "    p1 = m - 1\n",
    "    p2 = n - 1\n",
    "    p = m + n - 1\n",
    "\n",
    "    while p1 >= 0 and p2 >= 0:\n",
    "        if nums1[p1] <= nums2[p2]:\n",
    "            nums1[p] = nums2[p2]\n",
    "            p2 -= 1\n",
    "        else:\n",
    "            nums1[p] = nums1[p1]\n",
    "            p1 -= 1\n",
    "        p -= 1\n",
    "    nums1[:p2 + 1] = nums2[:p2 + 1]\n",
    "\n",
    "nums1 = [1, 2, 3, 0, 0, 0]\n",
    "m = 3\n",
    "nums2 = [2, 5, 6]\n",
    "n = 3\n",
    "merge(nums1, m, nums2, n)\n",
    "print(nums1)  # Output: [1, 2, 2, 3, 5, 6]\n"
   ]
  },
  {
   "cell_type": "code",
   "execution_count": 6,
   "id": "a771d992",
   "metadata": {},
   "outputs": [
    {
     "name": "stdout",
     "output_type": "stream",
     "text": [
      "True\n"
     ]
    }
   ],
   "source": [
    "#Answer 6:\n",
    "\n",
    "def containsDuplicate(nums):\n",
    "    num_set = set()\n",
    "\n",
    "    for num in nums:\n",
    "        if num in num_set:\n",
    "            return True\n",
    "        num_set.add(num)\n",
    "\n",
    "    return False\n",
    "\n",
    "nums = [1, 2, 3, 1]\n",
    "result = containsDuplicate(nums)\n",
    "print(result) \n"
   ]
  },
  {
   "cell_type": "code",
   "execution_count": 7,
   "id": "c16d786e",
   "metadata": {},
   "outputs": [
    {
     "name": "stdout",
     "output_type": "stream",
     "text": [
      "[1, 3, 12, 0, 0]\n"
     ]
    }
   ],
   "source": [
    "#Answer 7:\n",
    "\n",
    "def moveZeroes(nums):\n",
    "    left = 0 \n",
    "    for right in range(len(nums)):\n",
    "        if nums[right] != 0:\n",
    "            nums[left], nums[right] = nums[right], nums[left]\n",
    "            left += 1\n",
    "nums = [0, 1, 0, 3, 12]\n",
    "moveZeroes(nums)\n",
    "print(nums)  # Output: [1, 3, 12, 0, 0]\n"
   ]
  },
  {
   "cell_type": "code",
   "execution_count": 4,
   "id": "951697a1",
   "metadata": {},
   "outputs": [
    {
     "name": "stdout",
     "output_type": "stream",
     "text": [
      "[2, 3]\n"
     ]
    }
   ],
   "source": [
    "#Answer 8:\n",
    "\n",
    "def findErrorNums(nums):\n",
    "    n = len(nums)\n",
    "    i = 0\n",
    "    while i < n:\n",
    "        num = nums[i]\n",
    "        if num != i + 1 and nums[num - 1] != num:\n",
    "            nums[i], nums[num - 1] = nums[num - 1], nums[i]\n",
    "        else:\n",
    "            i += 1\n",
    "    for i in range(n):\n",
    "        if nums[i] != i + 1:\n",
    "            return [nums[i], i + 1]\n",
    "\n",
    "nums = [1, 2, 2, 4]\n",
    "result = findErrorNums(nums)\n",
    "print(result)  # Output: [2, 3]\n"
   ]
  },
  {
   "cell_type": "code",
   "execution_count": null,
   "id": "83f13789",
   "metadata": {},
   "outputs": [],
   "source": []
  }
 ],
 "metadata": {
  "kernelspec": {
   "display_name": "Python 3 (ipykernel)",
   "language": "python",
   "name": "python3"
  },
  "language_info": {
   "codemirror_mode": {
    "name": "ipython",
    "version": 3
   },
   "file_extension": ".py",
   "mimetype": "text/x-python",
   "name": "python",
   "nbconvert_exporter": "python",
   "pygments_lexer": "ipython3",
   "version": "3.9.12"
  }
 },
 "nbformat": 4,
 "nbformat_minor": 5
}
